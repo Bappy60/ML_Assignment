{
  "nbformat": 4,
  "nbformat_minor": 0,
  "metadata": {
    "colab": {
      "provenance": [],
      "toc_visible": true,
      "authorship_tag": "ABX9TyNWx7sTJrsHohxoMp2i0ml7",
      "include_colab_link": true
    },
    "kernelspec": {
      "name": "python3",
      "display_name": "Python 3"
    },
    "language_info": {
      "name": "python"
    }
  },
  "cells": [
    {
      "cell_type": "markdown",
      "metadata": {
        "id": "view-in-github",
        "colab_type": "text"
      },
      "source": [
        "<a href=\"https://colab.research.google.com/github/Bappy60/ML_Assignment/blob/main/Final%20Lab%20Problem%202/Predicting_Customer_Behaviour_Using_Logistic_Regression.ipynb\" target=\"_parent\"><img src=\"https://colab.research.google.com/assets/colab-badge.svg\" alt=\"Open In Colab\"/></a>"
      ]
    },
    {
      "cell_type": "markdown",
      "source": [
        "*Author Name : Kawsar Ahemmed Bappy*\n",
        "\n",
        "*Registration Number : 2018831060*"
      ],
      "metadata": {
        "id": "5PDxJfdqjsbK"
      }
    },
    {
      "cell_type": "markdown",
      "source": [
        "#Importing Libraries"
      ],
      "metadata": {
        "id": "8OhWUv7kjeXL"
      }
    },
    {
      "cell_type": "code",
      "execution_count": null,
      "metadata": {
        "id": "Pdhkt_G5iTN2"
      },
      "outputs": [],
      "source": [
        "import warnings\n",
        "warnings.filterwarnings('ignore')\n",
        "\n",
        "import numpy as np\n",
        "import matplotlib.pyplot as plt\n",
        "import pandas as pd\n",
        "import numpy as np\n",
        "import seaborn as sns\n",
        "import sys\n",
        "from sklearn.linear_model import LogisticRegression\n",
        "from sklearn.preprocessing import StandardScaler\n",
        "from sklearn.feature_selection import RFE\n",
        "from sklearn.model_selection import train_test_split\n",
        "from sklearn.preprocessing import OrdinalEncoder\n",
        "from sklearn.preprocessing import OneHotEncoder\n",
        "from sklearn.preprocessing import LabelEncoder\n",
        "from sklearn.compose import ColumnTransformer\n",
        "from sklearn.pipeline import Pipeline\n",
        "from sklearn.impute import SimpleImputer\n",
        "from collections import Counter\n",
        "!pip install google-colab\n",
        "import google.colab.drive as drive"
      ]
    },
    {
      "cell_type": "markdown",
      "source": [
        "#Mounting Drive & Downloading Zip file"
      ],
      "metadata": {
        "id": "TOg-4DKaudss"
      }
    },
    {
      "cell_type": "code",
      "source": [
        "drive.mount('/content/drive')\n",
        "!unzip \"/content/drive/My Drive/bank-data.zip\""
      ],
      "metadata": {
        "id": "T_jTd_RmnZ3Z"
      },
      "execution_count": null,
      "outputs": []
    },
    {
      "cell_type": "code",
      "source": [
        "!ls -l"
      ],
      "metadata": {
        "id": "NMYweV8_oMB8"
      },
      "execution_count": null,
      "outputs": []
    },
    {
      "cell_type": "code",
      "source": [
        "!ls -l bank-data/"
      ],
      "metadata": {
        "id": "C1302q98oezM"
      },
      "execution_count": null,
      "outputs": []
    },
    {
      "cell_type": "markdown",
      "source": [
        "#Loading the Dataset"
      ],
      "metadata": {
        "id": "4nVtzmKwursC"
      }
    },
    {
      "cell_type": "code",
      "source": [
        "df = pd.read_csv('bank-data/bank-full.csv',sep=';')"
      ],
      "metadata": {
        "id": "AVRVVL-3pxeK"
      },
      "execution_count": null,
      "outputs": []
    },
    {
      "cell_type": "markdown",
      "source": [
        "#Exploaring Data"
      ],
      "metadata": {
        "id": "F4otzUxiu7bZ"
      }
    },
    {
      "cell_type": "code",
      "source": [
        "df.head()"
      ],
      "metadata": {
        "id": "F3f_6N8_u1ue"
      },
      "execution_count": null,
      "outputs": []
    },
    {
      "cell_type": "code",
      "source": [
        "df.tail()"
      ],
      "metadata": {
        "id": "eMkiDFFCro_7"
      },
      "execution_count": null,
      "outputs": []
    },
    {
      "cell_type": "code",
      "source": [
        "df.shape"
      ],
      "metadata": {
        "id": "CKqgNKQQq9IN"
      },
      "execution_count": null,
      "outputs": []
    },
    {
      "cell_type": "code",
      "source": [
        "#  Find missing values of each feature in the data set.\n",
        "df.info()"
      ],
      "metadata": {
        "id": "dftwVImdrGFo"
      },
      "execution_count": null,
      "outputs": []
    },
    {
      "cell_type": "code",
      "source": [
        "# statistical aspects of the dataframe\n",
        "df.describe(include='all')"
      ],
      "metadata": {
        "id": "Vw4_I2vQykfB"
      },
      "execution_count": null,
      "outputs": []
    },
    {
      "cell_type": "code",
      "source": [
        "df.nunique()"
      ],
      "metadata": {
        "id": "RNaqVoOkrMKy"
      },
      "execution_count": null,
      "outputs": []
    },
    {
      "cell_type": "markdown",
      "source": [
        "#Preprocessing"
      ],
      "metadata": {
        "id": "e4RRJdU57Njt"
      }
    },
    {
      "cell_type": "markdown",
      "source": [
        "Here are steps we follow to preprocess our data:\n",
        "\n",
        "1. Dealing with missing values\n",
        "2. Splitting of data (80 : 20 split)\n",
        "3. Handling Categorical Variable\n",
        "4. Oversampling using SMOTE\n",
        "5. Random Feature Elimination (RFE)\n",
        "Logistic Regression Model Fitting"
      ],
      "metadata": {
        "id": "uPc60L316Hta"
      }
    },
    {
      "cell_type": "markdown",
      "source": [
        "##Dealing with missing values"
      ],
      "metadata": {
        "id": "lPIVb24R7Ugr"
      }
    },
    {
      "cell_type": "code",
      "source": [
        "#checking for missing values\n",
        "df.isnull().sum()"
      ],
      "metadata": {
        "id": "j9EiU5szsHqf"
      },
      "execution_count": null,
      "outputs": []
    },
    {
      "cell_type": "markdown",
      "source": [
        "Luckily, our dataset does not contain missing data. Hence, we can skip this step."
      ],
      "metadata": {
        "id": "zBnIaoWh7orK"
      }
    },
    {
      "cell_type": "markdown",
      "source": [
        "##Experiment"
      ],
      "metadata": {
        "id": "RQvsCMpA8GMX"
      }
    },
    {
      "cell_type": "code",
      "source": [
        "# # Drop the 'poutcome' column from the dataset\n",
        "# df = df.drop(columns=['poutcome'])"
      ],
      "metadata": {
        "id": "FUnBxWPtvXhI"
      },
      "execution_count": null,
      "outputs": []
    },
    {
      "cell_type": "code",
      "source": [
        "# # Calculate the percentage of 'unknown' values in each column\n",
        "# unknown_percentages = (df == 'unknown').mean() * 100\n",
        "\n",
        "# # Calculate the percentage of 'unknown' values in each row\n",
        "# unknown_percentages_in_rows = (df == 'unknown').mean(axis=1) * 100\n",
        "\n",
        "# # Find the column with the highest percentage of 'unknown' values\n",
        "# column_with_highest_percentage = unknown_percentages.idxmax()\n",
        "# highest_percentage_column = unknown_percentages.max()\n",
        "\n",
        "# # Find the row with the highest percentage of 'unknown' values\n",
        "# row_with_highest_percentage = unknown_percentages_in_rows.idxmax()\n",
        "# highest_percentage_row = unknown_percentages_in_rows.max()\n",
        "\n",
        "# # Print the results\n",
        "# print(\"Percentage of 'unknown' values in each column:\")\n",
        "# print(unknown_percentages)\n",
        "# print(\"\\nPercentage of 'unknown' values in each row:\")\n",
        "# print(unknown_percentages_in_rows)\n",
        "# print(\"\\nColumn with the highest percentage of 'unknown' values:\")\n",
        "# print(f\"Column: {column_with_highest_percentage}, Percentage: {highest_percentage_column:.2f}%\")\n",
        "# print(\"\\nRow with the highest percentage of 'unknown' values:\")\n",
        "# print(f\"Row: {row_with_highest_percentage}, Percentage: {highest_percentage_row:.2f}%\")\n"
      ],
      "metadata": {
        "id": "E_kbcaWhvjgZ"
      },
      "execution_count": null,
      "outputs": []
    },
    {
      "cell_type": "code",
      "source": [
        "#droping the 4th row as it has the highest percentage of unknown values\n",
        "# data = df.drop(4)"
      ],
      "metadata": {
        "id": "xFPtYOTuxVtn"
      },
      "execution_count": null,
      "outputs": []
    },
    {
      "cell_type": "code",
      "source": [
        "# # Calculate the count of 'unknown' and 'other' in the 'poutcome' column\n",
        "# unknown_count = (df['poutcome'] == 'unknown').sum()\n",
        "# other_count = (df['poutcome'] == 'other').sum()\n",
        "\n",
        "# # Calculate the total count of values in the 'poutcome' column\n",
        "# total_count = len(df)\n",
        "\n",
        "# # Calculate the percentage of 'unknown' and 'other'\n",
        "# percentage_unknown = (unknown_count / total_count) * 100\n",
        "# percentage_other = (other_count / total_count) * 100\n",
        "\n",
        "# print(\"Percentage of 'unknown' in poutcome:\", percentage_unknown)\n",
        "# print(\"Percentage of 'other' in poutcome:\", percentage_other)\n"
      ],
      "metadata": {
        "id": "eWibmQzTsarx"
      },
      "execution_count": null,
      "outputs": []
    },
    {
      "cell_type": "markdown",
      "source": [
        "Droping the column: If a column has too many ‘unknown’ or ‘other’ values, it might not be very useful for the model. Thats why i am dropping the column entirely."
      ],
      "metadata": {
        "id": "VQ4Kx5fxwjaA"
      }
    },
    {
      "cell_type": "markdown",
      "source": [
        "##Splitting of data (80 : 20 split)"
      ],
      "metadata": {
        "id": "Gub1G01e-IuH"
      }
    },
    {
      "cell_type": "code",
      "source": [
        "# load X and y\n",
        "X = df.drop(columns=['y'])\n",
        "y = df['y']\n",
        "\n",
        "X_train, X_test, y_train, y_test = train_test_split(X, y, test_size = 0.2, random_state=42)\n",
        "\n",
        "print(\"Number transactions X_train dataset: \", X_train.shape)\n",
        "print(\"Number transactions y_train dataset: \", y_train.shape)\n",
        "print(\"Number transactions X_test dataset: \", X_test.shape)\n",
        "print(\"Number transactions y_test dataset: \", y_test.shape)"
      ],
      "metadata": {
        "id": "90juO1wn7_9H"
      },
      "execution_count": null,
      "outputs": []
    },
    {
      "cell_type": "markdown",
      "source": [
        "##Handling Categorical *variable*"
      ],
      "metadata": {
        "id": "mNaYPMZU_ZWq"
      }
    },
    {
      "cell_type": "code",
      "source": [
        "cat_col = [n for n  in df.columns if df[n].dtypes == 'object']\n",
        "for col in cat_col:\n",
        "  print(col, '\\n\\n')\n",
        "  print(df[col].value_counts())\n",
        "  print(\"〰\"*25)\n",
        "  print('\\n')"
      ],
      "metadata": {
        "id": "SKAJ5rDOxolt"
      },
      "execution_count": null,
      "outputs": []
    },
    {
      "cell_type": "code",
      "source": [
        "numeric_features = X_train.select_dtypes(include=['float64', 'int64']).columns.values\n",
        "numeric_features = numeric_features[numeric_features != 'y']\n",
        "\n",
        "category_features = X_train.select_dtypes(include=['object', 'bool']).columns.values\n",
        "\n",
        "print(numeric_features)\n",
        "print(category_features)"
      ],
      "metadata": {
        "id": "3aaQ9RvW_fZY"
      },
      "execution_count": null,
      "outputs": []
    },
    {
      "cell_type": "code",
      "source": [
        "def dummify(ohe, x, columns):\n",
        "    transformed_array = ohe.transform(x)\n",
        "\n",
        "    # list of category columns\n",
        "    enc = ohe.named_transformers_['cat'].named_steps['onehot']\n",
        "    feature_lst = enc.get_feature_names_out(category_features.tolist())\n",
        "\n",
        "    cat_colnames = np.concatenate([feature_lst]).tolist()\n",
        "    all_colnames = numeric_features.tolist() + cat_colnames\n",
        "\n",
        "    # convert numpy array to dataframe\n",
        "    df = pd.DataFrame(transformed_array, index = x.index, columns = all_colnames)\n",
        "\n",
        "    return transformed_array, df"
      ],
      "metadata": {
        "id": "_pOGAueWB8Pg"
      },
      "execution_count": null,
      "outputs": []
    },
    {
      "cell_type": "code",
      "source": [
        "# impute missing numerical values with a median value, then scale the values\n",
        "numeric_transformer = Pipeline(steps=[\n",
        "    ('imputer', SimpleImputer(strategy='median')),\n",
        "    ('scaler', StandardScaler())])\n",
        "\n",
        "# impute missing categorical values using the 'missing' and one hot encode the categories\n",
        "categorical_transformer = Pipeline(steps=[\n",
        "    ('imputer', SimpleImputer(strategy='constant', fill_value='missing')),\n",
        "    ('onehot', OneHotEncoder(handle_unknown='ignore'))])\n",
        "\n",
        "# Each transformer is a three-element tuple that defines\n",
        "#                                 the name of the transformer,\n",
        "#                                 the transform to apply,\n",
        "#                                 and the column features to apply it to\n",
        "preprocessor = ColumnTransformer(\n",
        "    transformers=[\n",
        "        ('num', numeric_transformer, numeric_features),\n",
        "        ('cat', categorical_transformer, category_features)])\n",
        "\n",
        "ohe = preprocessor.fit(X_train)\n",
        "\n",
        "X_train_t = ohe.transform(X_train)\n",
        "X_test_t = ohe.transform(X_test)"
      ],
      "metadata": {
        "id": "hypOcwsYCegz"
      },
      "execution_count": null,
      "outputs": []
    },
    {
      "cell_type": "code",
      "source": [
        "# transform training and test set and then convert it to dataframe\n",
        "X_train_t_array, X_train_t = dummify(ohe, X_train, category_features)\n",
        "X_test_t_array, X_test_t = dummify(ohe, X_test, category_features)\n",
        "\n",
        "X_train_t.head()"
      ],
      "metadata": {
        "id": "DrDctmvaEAMs"
      },
      "execution_count": null,
      "outputs": []
    },
    {
      "cell_type": "code",
      "source": [
        "X_train_columns = X_train_t.columns\n",
        "print(X_train_columns)"
      ],
      "metadata": {
        "id": "DHJp2XYREIO2"
      },
      "execution_count": null,
      "outputs": []
    },
    {
      "cell_type": "markdown",
      "source": [
        "##Oversampling using SMOTE"
      ],
      "metadata": {
        "id": "zxKv-NLeD42i"
      }
    },
    {
      "cell_type": "markdown",
      "source": [
        "Input values:    \n",
        "* Dataframe: X_train_t, y_train, X_test_t, y_test\n",
        "    \n",
        "* Array: X_train_t_array, X_test_t_array"
      ],
      "metadata": {
        "id": "7qU-o6G-EWen"
      }
    },
    {
      "cell_type": "code",
      "source": [
        "# Calculate the count of 'yes' and 'no' in the 'y' column\n",
        "yes_count = (df['y'] == 'yes').sum()\n",
        "no_count = (df['y'] == 'no').sum()\n",
        "\n",
        "# Calculate the total count of values in the 'y' column\n",
        "total_count = len(df)\n",
        "\n",
        "# Calculate the percentage of 'yes' and 'no'\n",
        "percentage_yes = (yes_count / total_count) * 100\n",
        "percentage_no = (no_count / total_count) * 100\n",
        "print(\"before sampling\")\n",
        "print(\"Percentage of 'yes' in 'y':\", percentage_yes)\n",
        "print(\"Percentage of 'no' in 'y':\", percentage_no)"
      ],
      "metadata": {
        "id": "wct6M9TB5NYS"
      },
      "execution_count": null,
      "outputs": []
    },
    {
      "cell_type": "markdown",
      "source": [
        "As mentioned above, our data is imbalanced. We can see that in our dataset, the positive samples (minority class) are much less than negative samples (majority class). The positive samples (the people who subscribed to the term deposit) were only 11.69% from the total samples. Therefore, accuracy is no longer a good measure of performance because if we simply predict all examples to the negative class, we achieve 88.3% accuracy. As a result, we need to apply methods to overcome class imbalance problem. In this section, we use SMOTE method to balance our dataset."
      ],
      "metadata": {
        "id": "cW6Ohc9oEalT"
      }
    },
    {
      "cell_type": "markdown",
      "source": [
        "SMOTE is an oversampling technique where the synthetic samples are generated for the minority class. This algorithm helps to overcome the overfitting problem posed by random oversampling. It focuses on the feature space to generate new instances with the help of interpolation between the positive instances that lie together."
      ],
      "metadata": {
        "id": "mcyggdYJEfdG"
      }
    },
    {
      "cell_type": "markdown",
      "source": [
        " We define a SMOTE instance with default parameters that will balance the minority class and then fit and apply it in one step to create a transformed version of our dataset.\n"
      ],
      "metadata": {
        "id": "nO5CHGbrEkLn"
      }
    },
    {
      "cell_type": "code",
      "source": [
        "from imblearn.over_sampling import SMOTE\n",
        "\n",
        "# summarize class distribution\n",
        "counter = Counter(y_train)\n",
        "print(counter)\n",
        "\n",
        "# transform the dataset\n",
        "oversample = SMOTE()\n",
        "X_train_smote, y_train = oversample.fit_resample(X_train_t, y_train)\n",
        "\n",
        "# summarize the new class distribution\n",
        "counter = Counter(y_train)\n",
        "print(counter)"
      ],
      "metadata": {
        "id": "LdjUz9y2tCkK"
      },
      "execution_count": null,
      "outputs": []
    },
    {
      "cell_type": "markdown",
      "source": [
        "## Random Feature Elimination (RFE)"
      ],
      "metadata": {
        "id": "w_eOR-siFKFM"
      }
    },
    {
      "cell_type": "markdown",
      "source": [
        "RFE is a popular feature selection algorithm. It is easy to configure and pretty effective at selecting features in a training dataset. There are two important configuration options when using RFE:\n",
        "\n",
        "    1. The number of features to select.\n",
        "    \n",
        "    2. The choice of algorithm used to help choose features."
      ],
      "metadata": {
        "id": "sIdQFLIJGFDe"
      }
    },
    {
      "cell_type": "code",
      "source": [
        "from sklearn.svm import SVC\n",
        "\n",
        "final_X_train = pd.DataFrame(data=X_train_smote,columns=X_train_columns )\n",
        "final_y_train = pd.DataFrame(data=y_train,columns=['y'])\n",
        "\n",
        "rfe_model = RFE(LogisticRegression(solver='lbfgs'), n_features_to_select=25)\n",
        "rfe_model = rfe_model.fit(final_X_train, final_y_train)\n",
        "\n",
        "# feature selection\n",
        "print(rfe_model.support_)\n",
        "print(rfe_model.ranking_)"
      ],
      "metadata": {
        "colab": {
          "base_uri": "https://localhost:8080/"
        },
        "id": "ne2qtFBDFSPN",
        "outputId": "821c36c2-f1bb-48b6-c7cf-0ba29456f20b"
      },
      "execution_count": 65,
      "outputs": [
        {
          "output_type": "stream",
          "name": "stdout",
          "text": [
            "[False False False  True False False False False False False  True False\n",
            "  True False False  True False False  True False False False  True False\n",
            " False False False  True  True False False  True  True  True  True False\n",
            "  True  True False  True  True False  True  True  True  True  True  True\n",
            "  True  True  True]\n",
            "[27 25 23  1  5 26 22  7 18  9  1 20  1 10 19  1 24 17  1 15 14  6  1 21\n",
            "  8 11 16  1  1  3  4  1  1  1  1 13  1  1  2  1  1 12  1  1  1  1  1  1\n",
            "  1  1  1]\n"
          ]
        }
      ]
    },
    {
      "cell_type": "code",
      "source": [
        "selected_columns = X_train_columns[rfe_model.support_]\n",
        "print(selected_columns.tolist())"
      ],
      "metadata": {
        "colab": {
          "base_uri": "https://localhost:8080/"
        },
        "id": "pkl6Sn54GW8Q",
        "outputId": "c798d4a8-8e09-4ff3-bd12-fce4250b7830"
      },
      "execution_count": 66,
      "outputs": [
        {
          "output_type": "stream",
          "name": "stdout",
          "text": [
            "['duration', 'job_housemaid', 'job_retired', 'job_student', 'job_unknown', 'education_primary', 'default_yes', 'housing_no', 'loan_yes', 'contact_cellular', 'contact_telephone', 'contact_unknown', 'month_aug', 'month_dec', 'month_jan', 'month_jul', 'month_mar', 'month_may', 'month_nov', 'month_oct', 'month_sep', 'poutcome_failure', 'poutcome_other', 'poutcome_success', 'poutcome_unknown']\n"
          ]
        }
      ]
    },
    {
      "cell_type": "code",
      "source": [
        "X_train_final = final_X_train[selected_columns.tolist()]\n",
        "y_train_final = final_y_train['y']\n",
        "X_test_final = X_test_t[selected_columns.tolist()]\n",
        "y_test_final = y_test\n",
        "\n",
        "X_test_final.head()"
      ],
      "metadata": {
        "colab": {
          "base_uri": "https://localhost:8080/",
          "height": 256
        },
        "id": "wNwaa4AyU_4l",
        "outputId": "a7bde8d9-8259-4d4e-f471-b34ada172c8a"
      },
      "execution_count": 67,
      "outputs": [
        {
          "output_type": "execute_result",
          "data": {
            "text/plain": [
              "       duration  job_housemaid  job_retired  job_student  job_unknown  \\\n",
              "3776  -0.252612            0.0          0.0          0.0          0.0   \n",
              "9928  -0.676934            0.0          0.0          0.0          0.0   \n",
              "33409 -0.120255            0.0          0.0          1.0          0.0   \n",
              "31885  0.210638            0.0          0.0          0.0          0.0   \n",
              "15738 -0.529005            0.0          0.0          0.0          0.0   \n",
              "\n",
              "       education_primary  default_yes  housing_no  loan_yes  contact_cellular  \\\n",
              "3776                 0.0          0.0         0.0       0.0               0.0   \n",
              "9928                 0.0          0.0         1.0       0.0               0.0   \n",
              "33409                0.0          0.0         0.0       0.0               1.0   \n",
              "31885                0.0          0.0         1.0       0.0               1.0   \n",
              "15738                0.0          0.0         1.0       1.0               1.0   \n",
              "\n",
              "       ...  month_jul  month_mar  month_may  month_nov  month_oct  month_sep  \\\n",
              "3776   ...        0.0        0.0        1.0        0.0        0.0        0.0   \n",
              "9928   ...        0.0        0.0        0.0        0.0        0.0        0.0   \n",
              "33409  ...        0.0        0.0        0.0        0.0        0.0        0.0   \n",
              "31885  ...        0.0        0.0        0.0        0.0        0.0        0.0   \n",
              "15738  ...        1.0        0.0        0.0        0.0        0.0        0.0   \n",
              "\n",
              "       poutcome_failure  poutcome_other  poutcome_success  poutcome_unknown  \n",
              "3776                0.0             0.0               0.0               1.0  \n",
              "9928                0.0             0.0               0.0               1.0  \n",
              "33409               0.0             0.0               0.0               1.0  \n",
              "31885               1.0             0.0               0.0               0.0  \n",
              "15738               0.0             0.0               0.0               1.0  \n",
              "\n",
              "[5 rows x 25 columns]"
            ],
            "text/html": [
              "\n",
              "  <div id=\"df-33a57624-7f3c-479d-8640-f4c2b0e8db34\" class=\"colab-df-container\">\n",
              "    <div>\n",
              "<style scoped>\n",
              "    .dataframe tbody tr th:only-of-type {\n",
              "        vertical-align: middle;\n",
              "    }\n",
              "\n",
              "    .dataframe tbody tr th {\n",
              "        vertical-align: top;\n",
              "    }\n",
              "\n",
              "    .dataframe thead th {\n",
              "        text-align: right;\n",
              "    }\n",
              "</style>\n",
              "<table border=\"1\" class=\"dataframe\">\n",
              "  <thead>\n",
              "    <tr style=\"text-align: right;\">\n",
              "      <th></th>\n",
              "      <th>duration</th>\n",
              "      <th>job_housemaid</th>\n",
              "      <th>job_retired</th>\n",
              "      <th>job_student</th>\n",
              "      <th>job_unknown</th>\n",
              "      <th>education_primary</th>\n",
              "      <th>default_yes</th>\n",
              "      <th>housing_no</th>\n",
              "      <th>loan_yes</th>\n",
              "      <th>contact_cellular</th>\n",
              "      <th>...</th>\n",
              "      <th>month_jul</th>\n",
              "      <th>month_mar</th>\n",
              "      <th>month_may</th>\n",
              "      <th>month_nov</th>\n",
              "      <th>month_oct</th>\n",
              "      <th>month_sep</th>\n",
              "      <th>poutcome_failure</th>\n",
              "      <th>poutcome_other</th>\n",
              "      <th>poutcome_success</th>\n",
              "      <th>poutcome_unknown</th>\n",
              "    </tr>\n",
              "  </thead>\n",
              "  <tbody>\n",
              "    <tr>\n",
              "      <th>3776</th>\n",
              "      <td>-0.252612</td>\n",
              "      <td>0.0</td>\n",
              "      <td>0.0</td>\n",
              "      <td>0.0</td>\n",
              "      <td>0.0</td>\n",
              "      <td>0.0</td>\n",
              "      <td>0.0</td>\n",
              "      <td>0.0</td>\n",
              "      <td>0.0</td>\n",
              "      <td>0.0</td>\n",
              "      <td>...</td>\n",
              "      <td>0.0</td>\n",
              "      <td>0.0</td>\n",
              "      <td>1.0</td>\n",
              "      <td>0.0</td>\n",
              "      <td>0.0</td>\n",
              "      <td>0.0</td>\n",
              "      <td>0.0</td>\n",
              "      <td>0.0</td>\n",
              "      <td>0.0</td>\n",
              "      <td>1.0</td>\n",
              "    </tr>\n",
              "    <tr>\n",
              "      <th>9928</th>\n",
              "      <td>-0.676934</td>\n",
              "      <td>0.0</td>\n",
              "      <td>0.0</td>\n",
              "      <td>0.0</td>\n",
              "      <td>0.0</td>\n",
              "      <td>0.0</td>\n",
              "      <td>0.0</td>\n",
              "      <td>1.0</td>\n",
              "      <td>0.0</td>\n",
              "      <td>0.0</td>\n",
              "      <td>...</td>\n",
              "      <td>0.0</td>\n",
              "      <td>0.0</td>\n",
              "      <td>0.0</td>\n",
              "      <td>0.0</td>\n",
              "      <td>0.0</td>\n",
              "      <td>0.0</td>\n",
              "      <td>0.0</td>\n",
              "      <td>0.0</td>\n",
              "      <td>0.0</td>\n",
              "      <td>1.0</td>\n",
              "    </tr>\n",
              "    <tr>\n",
              "      <th>33409</th>\n",
              "      <td>-0.120255</td>\n",
              "      <td>0.0</td>\n",
              "      <td>0.0</td>\n",
              "      <td>1.0</td>\n",
              "      <td>0.0</td>\n",
              "      <td>0.0</td>\n",
              "      <td>0.0</td>\n",
              "      <td>0.0</td>\n",
              "      <td>0.0</td>\n",
              "      <td>1.0</td>\n",
              "      <td>...</td>\n",
              "      <td>0.0</td>\n",
              "      <td>0.0</td>\n",
              "      <td>0.0</td>\n",
              "      <td>0.0</td>\n",
              "      <td>0.0</td>\n",
              "      <td>0.0</td>\n",
              "      <td>0.0</td>\n",
              "      <td>0.0</td>\n",
              "      <td>0.0</td>\n",
              "      <td>1.0</td>\n",
              "    </tr>\n",
              "    <tr>\n",
              "      <th>31885</th>\n",
              "      <td>0.210638</td>\n",
              "      <td>0.0</td>\n",
              "      <td>0.0</td>\n",
              "      <td>0.0</td>\n",
              "      <td>0.0</td>\n",
              "      <td>0.0</td>\n",
              "      <td>0.0</td>\n",
              "      <td>1.0</td>\n",
              "      <td>0.0</td>\n",
              "      <td>1.0</td>\n",
              "      <td>...</td>\n",
              "      <td>0.0</td>\n",
              "      <td>0.0</td>\n",
              "      <td>0.0</td>\n",
              "      <td>0.0</td>\n",
              "      <td>0.0</td>\n",
              "      <td>0.0</td>\n",
              "      <td>1.0</td>\n",
              "      <td>0.0</td>\n",
              "      <td>0.0</td>\n",
              "      <td>0.0</td>\n",
              "    </tr>\n",
              "    <tr>\n",
              "      <th>15738</th>\n",
              "      <td>-0.529005</td>\n",
              "      <td>0.0</td>\n",
              "      <td>0.0</td>\n",
              "      <td>0.0</td>\n",
              "      <td>0.0</td>\n",
              "      <td>0.0</td>\n",
              "      <td>0.0</td>\n",
              "      <td>1.0</td>\n",
              "      <td>1.0</td>\n",
              "      <td>1.0</td>\n",
              "      <td>...</td>\n",
              "      <td>1.0</td>\n",
              "      <td>0.0</td>\n",
              "      <td>0.0</td>\n",
              "      <td>0.0</td>\n",
              "      <td>0.0</td>\n",
              "      <td>0.0</td>\n",
              "      <td>0.0</td>\n",
              "      <td>0.0</td>\n",
              "      <td>0.0</td>\n",
              "      <td>1.0</td>\n",
              "    </tr>\n",
              "  </tbody>\n",
              "</table>\n",
              "<p>5 rows × 25 columns</p>\n",
              "</div>\n",
              "    <div class=\"colab-df-buttons\">\n",
              "\n",
              "  <div class=\"colab-df-container\">\n",
              "    <button class=\"colab-df-convert\" onclick=\"convertToInteractive('df-33a57624-7f3c-479d-8640-f4c2b0e8db34')\"\n",
              "            title=\"Convert this dataframe to an interactive table.\"\n",
              "            style=\"display:none;\">\n",
              "\n",
              "  <svg xmlns=\"http://www.w3.org/2000/svg\" height=\"24px\" viewBox=\"0 -960 960 960\">\n",
              "    <path d=\"M120-120v-720h720v720H120Zm60-500h600v-160H180v160Zm220 220h160v-160H400v160Zm0 220h160v-160H400v160ZM180-400h160v-160H180v160Zm440 0h160v-160H620v160ZM180-180h160v-160H180v160Zm440 0h160v-160H620v160Z\"/>\n",
              "  </svg>\n",
              "    </button>\n",
              "\n",
              "  <style>\n",
              "    .colab-df-container {\n",
              "      display:flex;\n",
              "      gap: 12px;\n",
              "    }\n",
              "\n",
              "    .colab-df-convert {\n",
              "      background-color: #E8F0FE;\n",
              "      border: none;\n",
              "      border-radius: 50%;\n",
              "      cursor: pointer;\n",
              "      display: none;\n",
              "      fill: #1967D2;\n",
              "      height: 32px;\n",
              "      padding: 0 0 0 0;\n",
              "      width: 32px;\n",
              "    }\n",
              "\n",
              "    .colab-df-convert:hover {\n",
              "      background-color: #E2EBFA;\n",
              "      box-shadow: 0px 1px 2px rgba(60, 64, 67, 0.3), 0px 1px 3px 1px rgba(60, 64, 67, 0.15);\n",
              "      fill: #174EA6;\n",
              "    }\n",
              "\n",
              "    .colab-df-buttons div {\n",
              "      margin-bottom: 4px;\n",
              "    }\n",
              "\n",
              "    [theme=dark] .colab-df-convert {\n",
              "      background-color: #3B4455;\n",
              "      fill: #D2E3FC;\n",
              "    }\n",
              "\n",
              "    [theme=dark] .colab-df-convert:hover {\n",
              "      background-color: #434B5C;\n",
              "      box-shadow: 0px 1px 3px 1px rgba(0, 0, 0, 0.15);\n",
              "      filter: drop-shadow(0px 1px 2px rgba(0, 0, 0, 0.3));\n",
              "      fill: #FFFFFF;\n",
              "    }\n",
              "  </style>\n",
              "\n",
              "    <script>\n",
              "      const buttonEl =\n",
              "        document.querySelector('#df-33a57624-7f3c-479d-8640-f4c2b0e8db34 button.colab-df-convert');\n",
              "      buttonEl.style.display =\n",
              "        google.colab.kernel.accessAllowed ? 'block' : 'none';\n",
              "\n",
              "      async function convertToInteractive(key) {\n",
              "        const element = document.querySelector('#df-33a57624-7f3c-479d-8640-f4c2b0e8db34');\n",
              "        const dataTable =\n",
              "          await google.colab.kernel.invokeFunction('convertToInteractive',\n",
              "                                                    [key], {});\n",
              "        if (!dataTable) return;\n",
              "\n",
              "        const docLinkHtml = 'Like what you see? Visit the ' +\n",
              "          '<a target=\"_blank\" href=https://colab.research.google.com/notebooks/data_table.ipynb>data table notebook</a>'\n",
              "          + ' to learn more about interactive tables.';\n",
              "        element.innerHTML = '';\n",
              "        dataTable['output_type'] = 'display_data';\n",
              "        await google.colab.output.renderOutput(dataTable, element);\n",
              "        const docLink = document.createElement('div');\n",
              "        docLink.innerHTML = docLinkHtml;\n",
              "        element.appendChild(docLink);\n",
              "      }\n",
              "    </script>\n",
              "  </div>\n",
              "\n",
              "\n",
              "<div id=\"df-6c0f18f6-6ad8-488e-ac16-d1c847edc0a7\">\n",
              "  <button class=\"colab-df-quickchart\" onclick=\"quickchart('df-6c0f18f6-6ad8-488e-ac16-d1c847edc0a7')\"\n",
              "            title=\"Suggest charts\"\n",
              "            style=\"display:none;\">\n",
              "\n",
              "<svg xmlns=\"http://www.w3.org/2000/svg\" height=\"24px\"viewBox=\"0 0 24 24\"\n",
              "     width=\"24px\">\n",
              "    <g>\n",
              "        <path d=\"M19 3H5c-1.1 0-2 .9-2 2v14c0 1.1.9 2 2 2h14c1.1 0 2-.9 2-2V5c0-1.1-.9-2-2-2zM9 17H7v-7h2v7zm4 0h-2V7h2v10zm4 0h-2v-4h2v4z\"/>\n",
              "    </g>\n",
              "</svg>\n",
              "  </button>\n",
              "\n",
              "<style>\n",
              "  .colab-df-quickchart {\n",
              "      --bg-color: #E8F0FE;\n",
              "      --fill-color: #1967D2;\n",
              "      --hover-bg-color: #E2EBFA;\n",
              "      --hover-fill-color: #174EA6;\n",
              "      --disabled-fill-color: #AAA;\n",
              "      --disabled-bg-color: #DDD;\n",
              "  }\n",
              "\n",
              "  [theme=dark] .colab-df-quickchart {\n",
              "      --bg-color: #3B4455;\n",
              "      --fill-color: #D2E3FC;\n",
              "      --hover-bg-color: #434B5C;\n",
              "      --hover-fill-color: #FFFFFF;\n",
              "      --disabled-bg-color: #3B4455;\n",
              "      --disabled-fill-color: #666;\n",
              "  }\n",
              "\n",
              "  .colab-df-quickchart {\n",
              "    background-color: var(--bg-color);\n",
              "    border: none;\n",
              "    border-radius: 50%;\n",
              "    cursor: pointer;\n",
              "    display: none;\n",
              "    fill: var(--fill-color);\n",
              "    height: 32px;\n",
              "    padding: 0;\n",
              "    width: 32px;\n",
              "  }\n",
              "\n",
              "  .colab-df-quickchart:hover {\n",
              "    background-color: var(--hover-bg-color);\n",
              "    box-shadow: 0 1px 2px rgba(60, 64, 67, 0.3), 0 1px 3px 1px rgba(60, 64, 67, 0.15);\n",
              "    fill: var(--button-hover-fill-color);\n",
              "  }\n",
              "\n",
              "  .colab-df-quickchart-complete:disabled,\n",
              "  .colab-df-quickchart-complete:disabled:hover {\n",
              "    background-color: var(--disabled-bg-color);\n",
              "    fill: var(--disabled-fill-color);\n",
              "    box-shadow: none;\n",
              "  }\n",
              "\n",
              "  .colab-df-spinner {\n",
              "    border: 2px solid var(--fill-color);\n",
              "    border-color: transparent;\n",
              "    border-bottom-color: var(--fill-color);\n",
              "    animation:\n",
              "      spin 1s steps(1) infinite;\n",
              "  }\n",
              "\n",
              "  @keyframes spin {\n",
              "    0% {\n",
              "      border-color: transparent;\n",
              "      border-bottom-color: var(--fill-color);\n",
              "      border-left-color: var(--fill-color);\n",
              "    }\n",
              "    20% {\n",
              "      border-color: transparent;\n",
              "      border-left-color: var(--fill-color);\n",
              "      border-top-color: var(--fill-color);\n",
              "    }\n",
              "    30% {\n",
              "      border-color: transparent;\n",
              "      border-left-color: var(--fill-color);\n",
              "      border-top-color: var(--fill-color);\n",
              "      border-right-color: var(--fill-color);\n",
              "    }\n",
              "    40% {\n",
              "      border-color: transparent;\n",
              "      border-right-color: var(--fill-color);\n",
              "      border-top-color: var(--fill-color);\n",
              "    }\n",
              "    60% {\n",
              "      border-color: transparent;\n",
              "      border-right-color: var(--fill-color);\n",
              "    }\n",
              "    80% {\n",
              "      border-color: transparent;\n",
              "      border-right-color: var(--fill-color);\n",
              "      border-bottom-color: var(--fill-color);\n",
              "    }\n",
              "    90% {\n",
              "      border-color: transparent;\n",
              "      border-bottom-color: var(--fill-color);\n",
              "    }\n",
              "  }\n",
              "</style>\n",
              "\n",
              "  <script>\n",
              "    async function quickchart(key) {\n",
              "      const quickchartButtonEl =\n",
              "        document.querySelector('#' + key + ' button');\n",
              "      quickchartButtonEl.disabled = true;  // To prevent multiple clicks.\n",
              "      quickchartButtonEl.classList.add('colab-df-spinner');\n",
              "      try {\n",
              "        const charts = await google.colab.kernel.invokeFunction(\n",
              "            'suggestCharts', [key], {});\n",
              "      } catch (error) {\n",
              "        console.error('Error during call to suggestCharts:', error);\n",
              "      }\n",
              "      quickchartButtonEl.classList.remove('colab-df-spinner');\n",
              "      quickchartButtonEl.classList.add('colab-df-quickchart-complete');\n",
              "    }\n",
              "    (() => {\n",
              "      let quickchartButtonEl =\n",
              "        document.querySelector('#df-6c0f18f6-6ad8-488e-ac16-d1c847edc0a7 button');\n",
              "      quickchartButtonEl.style.display =\n",
              "        google.colab.kernel.accessAllowed ? 'block' : 'none';\n",
              "    })();\n",
              "  </script>\n",
              "</div>\n",
              "\n",
              "    </div>\n",
              "  </div>\n"
            ]
          },
          "metadata": {},
          "execution_count": 67
        }
      ]
    },
    {
      "cell_type": "markdown",
      "source": [
        "# Logistic Regression Model Fitting"
      ],
      "metadata": {
        "id": "DQhUIFCdGccx"
      }
    },
    {
      "cell_type": "code",
      "source": [
        "from sklearn.linear_model import LogisticRegression\n",
        "from sklearn import metrics\n",
        "\n",
        "logreg = LogisticRegression()\n",
        "logreg.fit(X_train_final, y_train_final)"
      ],
      "metadata": {
        "colab": {
          "base_uri": "https://localhost:8080/",
          "height": 75
        },
        "id": "M79M-yRzGks_",
        "outputId": "f1353baa-eb07-41cf-c31f-3738c48081da"
      },
      "execution_count": 68,
      "outputs": [
        {
          "output_type": "execute_result",
          "data": {
            "text/plain": [
              "LogisticRegression()"
            ],
            "text/html": [
              "<style>#sk-container-id-2 {color: black;background-color: white;}#sk-container-id-2 pre{padding: 0;}#sk-container-id-2 div.sk-toggleable {background-color: white;}#sk-container-id-2 label.sk-toggleable__label {cursor: pointer;display: block;width: 100%;margin-bottom: 0;padding: 0.3em;box-sizing: border-box;text-align: center;}#sk-container-id-2 label.sk-toggleable__label-arrow:before {content: \"▸\";float: left;margin-right: 0.25em;color: #696969;}#sk-container-id-2 label.sk-toggleable__label-arrow:hover:before {color: black;}#sk-container-id-2 div.sk-estimator:hover label.sk-toggleable__label-arrow:before {color: black;}#sk-container-id-2 div.sk-toggleable__content {max-height: 0;max-width: 0;overflow: hidden;text-align: left;background-color: #f0f8ff;}#sk-container-id-2 div.sk-toggleable__content pre {margin: 0.2em;color: black;border-radius: 0.25em;background-color: #f0f8ff;}#sk-container-id-2 input.sk-toggleable__control:checked~div.sk-toggleable__content {max-height: 200px;max-width: 100%;overflow: auto;}#sk-container-id-2 input.sk-toggleable__control:checked~label.sk-toggleable__label-arrow:before {content: \"▾\";}#sk-container-id-2 div.sk-estimator input.sk-toggleable__control:checked~label.sk-toggleable__label {background-color: #d4ebff;}#sk-container-id-2 div.sk-label input.sk-toggleable__control:checked~label.sk-toggleable__label {background-color: #d4ebff;}#sk-container-id-2 input.sk-hidden--visually {border: 0;clip: rect(1px 1px 1px 1px);clip: rect(1px, 1px, 1px, 1px);height: 1px;margin: -1px;overflow: hidden;padding: 0;position: absolute;width: 1px;}#sk-container-id-2 div.sk-estimator {font-family: monospace;background-color: #f0f8ff;border: 1px dotted black;border-radius: 0.25em;box-sizing: border-box;margin-bottom: 0.5em;}#sk-container-id-2 div.sk-estimator:hover {background-color: #d4ebff;}#sk-container-id-2 div.sk-parallel-item::after {content: \"\";width: 100%;border-bottom: 1px solid gray;flex-grow: 1;}#sk-container-id-2 div.sk-label:hover label.sk-toggleable__label {background-color: #d4ebff;}#sk-container-id-2 div.sk-serial::before {content: \"\";position: absolute;border-left: 1px solid gray;box-sizing: border-box;top: 0;bottom: 0;left: 50%;z-index: 0;}#sk-container-id-2 div.sk-serial {display: flex;flex-direction: column;align-items: center;background-color: white;padding-right: 0.2em;padding-left: 0.2em;position: relative;}#sk-container-id-2 div.sk-item {position: relative;z-index: 1;}#sk-container-id-2 div.sk-parallel {display: flex;align-items: stretch;justify-content: center;background-color: white;position: relative;}#sk-container-id-2 div.sk-item::before, #sk-container-id-2 div.sk-parallel-item::before {content: \"\";position: absolute;border-left: 1px solid gray;box-sizing: border-box;top: 0;bottom: 0;left: 50%;z-index: -1;}#sk-container-id-2 div.sk-parallel-item {display: flex;flex-direction: column;z-index: 1;position: relative;background-color: white;}#sk-container-id-2 div.sk-parallel-item:first-child::after {align-self: flex-end;width: 50%;}#sk-container-id-2 div.sk-parallel-item:last-child::after {align-self: flex-start;width: 50%;}#sk-container-id-2 div.sk-parallel-item:only-child::after {width: 0;}#sk-container-id-2 div.sk-dashed-wrapped {border: 1px dashed gray;margin: 0 0.4em 0.5em 0.4em;box-sizing: border-box;padding-bottom: 0.4em;background-color: white;}#sk-container-id-2 div.sk-label label {font-family: monospace;font-weight: bold;display: inline-block;line-height: 1.2em;}#sk-container-id-2 div.sk-label-container {text-align: center;}#sk-container-id-2 div.sk-container {/* jupyter's `normalize.less` sets `[hidden] { display: none; }` but bootstrap.min.css set `[hidden] { display: none !important; }` so we also need the `!important` here to be able to override the default hidden behavior on the sphinx rendered scikit-learn.org. See: https://github.com/scikit-learn/scikit-learn/issues/21755 */display: inline-block !important;position: relative;}#sk-container-id-2 div.sk-text-repr-fallback {display: none;}</style><div id=\"sk-container-id-2\" class=\"sk-top-container\"><div class=\"sk-text-repr-fallback\"><pre>LogisticRegression()</pre><b>In a Jupyter environment, please rerun this cell to show the HTML representation or trust the notebook. <br />On GitHub, the HTML representation is unable to render, please try loading this page with nbviewer.org.</b></div><div class=\"sk-container\" hidden><div class=\"sk-item\"><div class=\"sk-estimator sk-toggleable\"><input class=\"sk-toggleable__control sk-hidden--visually\" id=\"sk-estimator-id-2\" type=\"checkbox\" checked><label for=\"sk-estimator-id-2\" class=\"sk-toggleable__label sk-toggleable__label-arrow\">LogisticRegression</label><div class=\"sk-toggleable__content\"><pre>LogisticRegression()</pre></div></div></div></div></div>"
            ]
          },
          "metadata": {},
          "execution_count": 68
        }
      ]
    },
    {
      "cell_type": "code",
      "source": [
        "y_pred = logreg.predict(X_test_final)\n",
        "print('Accuracy of logistic regression classifier on test set: {:.2f}'.format(logreg.score(X_test_final, y_test_final)))"
      ],
      "metadata": {
        "colab": {
          "base_uri": "https://localhost:8080/"
        },
        "id": "fiFHs1_VGwbv",
        "outputId": "eaf9100f-ef28-4e56-d825-52ca7e5ad0a4"
      },
      "execution_count": 69,
      "outputs": [
        {
          "output_type": "stream",
          "name": "stdout",
          "text": [
            "Accuracy of logistic regression classifier on test set: 0.84\n"
          ]
        }
      ]
    },
    {
      "cell_type": "code",
      "source": [
        "from sklearn import metrics\n",
        "from sklearn.metrics import accuracy_score, classification_report, confusion_matrix\n",
        "# Make predictions on the test set\n",
        "y_pred = logreg.predict(X_test_final)\n",
        "\n",
        "# Calculate accuracy\n",
        "accuracy = metrics.accuracy_score(y_test, y_pred)\n",
        "print(\"Accuracy:\", accuracy)\n",
        "\n",
        "# Use other metrics as needed (e.g., precision, recall, F1-score)\n",
        "# Generate a classification report for the test set\n",
        "print(\"\\nClassification Report for Test Set:\")\n",
        "print(classification_report(y_test, y_pred))\n",
        "\n",
        "# Generate a confusion matrix for the test set\n",
        "print(\"\\nConfusion Matrix for Test Set:\")\n",
        "print(confusion_matrix(y_test, y_pred))\n",
        "plt.figure(figsize=(8, 6))\n",
        "sns.heatmap(confusion_matrix(y_test, y_pred), annot=True, cmap='Blues', fmt='g')\n",
        "plt.xlabel('Predicted')\n",
        "plt.ylabel('Actual')\n",
        "plt.title('Confusion Matrix')\n",
        "plt.show()"
      ],
      "metadata": {
        "colab": {
          "base_uri": "https://localhost:8080/",
          "height": 842
        },
        "id": "bW2Dta7bVFXm",
        "outputId": "f81aff78-2121-4145-bc1c-43de4ae668c2"
      },
      "execution_count": 71,
      "outputs": [
        {
          "output_type": "stream",
          "name": "stdout",
          "text": [
            "Accuracy: 0.8417560544067234\n",
            "\n",
            "Classification Report for Test Set:\n",
            "              precision    recall  f1-score   support\n",
            "\n",
            "          no       0.97      0.85      0.90      7952\n",
            "         yes       0.42      0.82      0.55      1091\n",
            "\n",
            "    accuracy                           0.84      9043\n",
            "   macro avg       0.70      0.83      0.73      9043\n",
            "weighted avg       0.90      0.84      0.86      9043\n",
            "\n",
            "\n",
            "Confusion Matrix for Test Set:\n",
            "[[6722 1230]\n",
            " [ 201  890]]\n"
          ]
        },
        {
          "output_type": "display_data",
          "data": {
            "text/plain": [
              "<Figure size 800x600 with 2 Axes>"
            ],
            "image/png": "[encoded data removed]"
          },
          "metadata": {}
        }
      ]
    },
    {
      "cell_type": "code",
      "source": [],
      "metadata": {
        "id": "utea1pxBmlgq"
      },
      "execution_count": null,
      "outputs": []
    }
  ]
}
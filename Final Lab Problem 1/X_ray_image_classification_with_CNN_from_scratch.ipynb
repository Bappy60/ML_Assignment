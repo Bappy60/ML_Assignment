{
  "nbformat": 4,
  "nbformat_minor": 0,
  "metadata": {
    "colab": {
      "provenance": [],
      "toc_visible": true,
      "gpuType": "T4",
      "authorship_tag": "ABX9TyO3AdCSgiAXfxe1s2UVjJ+C",
      "include_colab_link": true
    },
    "kernelspec": {
      "name": "python3",
      "display_name": "Python 3"
    },
    "language_info": {
      "name": "python"
    }
  },
  "cells": [
    {
      "cell_type": "markdown",
      "metadata": {
        "id": "view-in-github",
        "colab_type": "text"
      },
      "source": [
        "<a href=\"https://colab.research.google.com/github/Bappy60/ML_Assignment/blob/main/Final%20Lab%20Problem%201/X_ray_image_classification_with_CNN_from_scratch.ipynb\" target=\"_parent\"><img src=\"https://colab.research.google.com/assets/colab-badge.svg\" alt=\"Open In Colab\"/></a>"
      ]
    },
    {
      "cell_type": "markdown",
      "source": [
        "#Importing Libraries"
      ],
      "metadata": {
        "id": "GCySyCBDSvdU"
      }
    },
    {
      "cell_type": "code",
      "execution_count": 1,
      "metadata": {
        "colab": {
          "base_uri": "https://localhost:8080/"
        },
        "id": "rXk85IC6DuUb",
        "outputId": "a7dd65be-cf01-4f67-bdf6-91f541f833aa"
      },
      "outputs": [
        {
          "output_type": "stream",
          "name": "stdout",
          "text": [
            "Installing collected packages: jedi\n",
            "Successfully installed jedi-0.19.1\n"
          ]
        }
      ],
      "source": [
        "import numpy as np\n",
        "import pandas as pd\n",
        "import matplotlib.pyplot as plt\n",
        "import plotly\n",
        "import plotly.express as px\n",
        "import plotly.graph_objs as go\n",
        "from plotly.offline import init_notebook_mode, plot, iplot\n",
        "import cv2\n",
        "import random\n",
        "import os\n",
        "import glob\n",
        "import albumentations as A\n",
        "import tensorflow as tf\n",
        "from tensorflow.keras.layers import Conv2D, Flatten, MaxPooling2D, Dense, Dropout , BatchNormalization\n",
        "from tensorflow.keras.models import Sequential\n",
        "from tensorflow.keras.preprocessing.image import ImageDataGenerator\n",
        "from keras.applications.vgg16 import VGG16\n",
        "from sklearn.model_selection import train_test_split\n",
        "from sklearn.metrics import classification_report,confusion_matrix\n",
        "from keras.callbacks import ReduceLROnPlateau\n",
        "!pip install google-colab\n",
        "import google.colab.drive as drive"
      ]
    },
    {
      "cell_type": "markdown",
      "source": [
        "#Loading the Dataset\n",
        "\n",
        "> Indented block\n",
        "\n"
      ],
      "metadata": {
        "id": "yzYc5twzRxjR"
      }
    },
    {
      "cell_type": "code",
      "source": [
        "drive.mount('/content/drive')\n",
        "!unzip \"/content/drive/My Drive/Archive.zip\""
      ],
      "metadata": {
        "colab": {
          "base_uri": "https://localhost:8080/"
        },
        "id": "dl_7syBRNHLl",
        "outputId": "34e70fc6-ca27-4885-b48f-a628a5d617e7"
      },
      "execution_count": 10,
      "outputs": [
        {
          "output_type": "stream",
          "name": "stdout",
          "text": [
            "Drive already mounted at /content/drive; to attempt to forcibly remount, call drive.mount(\"/content/drive\", force_remount=True).\n",
            "Archive:  /content/drive/My Drive/Archive.zip\n",
            "replace test/.DS_Store? [y]es, [n]o, [A]ll, [N]one, [r]ename: "
          ]
        }
      ]
    },
    {
      "cell_type": "markdown",
      "source": [
        "## Cheking the dataset"
      ],
      "metadata": {
        "id": "g4OSnZX36T_I"
      }
    },
    {
      "cell_type": "code",
      "source": [
        "!ls -l"
      ],
      "metadata": {
        "id": "13z63yqAOznT"
      },
      "execution_count": null,
      "outputs": []
    },
    {
      "cell_type": "code",
      "source": [
        "!ls -l train/NORMAL"
      ],
      "metadata": {
        "id": "5dBXsDuvXC-d"
      },
      "execution_count": null,
      "outputs": []
    },
    {
      "cell_type": "markdown",
      "source": [
        "##Loading data into variable"
      ],
      "metadata": {
        "id": "tGkRKkNw6dMb"
      }
    },
    {
      "cell_type": "code",
      "source": [
        "train_data = glob.glob('train/**/*.jpeg')\n",
        "test_data = glob.glob('test/**/*.jpeg')\n",
        "val_data = glob.glob('val/**/*.jpeg')\n",
        "print(\"〰\"*20)\n",
        "print(f\"Training Set has: {len(train_data)} images\")\n",
        "print(f\"Testing Set has: {len(test_data)} images\")\n",
        "print(f\"Validation Set has: {len(val_data)} images\")\n",
        "print(\"〰\"*20)"
      ],
      "metadata": {
        "colab": {
          "base_uri": "https://localhost:8080/"
        },
        "id": "EWEHghp8T_Sr",
        "outputId": "08a83c87-d220-4f7d-dfe3-190795b00a42"
      },
      "execution_count": 37,
      "outputs": [
        {
          "output_type": "stream",
          "name": "stdout",
          "text": [
            "〰〰〰〰〰〰〰〰〰〰〰〰〰〰〰〰〰〰〰〰\n",
            "Training Set has: 5216 images\n",
            "Testing Set has: 624 images\n",
            "Validation Set has: 16 images\n",
            "〰〰〰〰〰〰〰〰〰〰〰〰〰〰〰〰〰〰〰〰\n"
          ]
        }
      ]
    },
    {
      "cell_type": "markdown",
      "source": [
        "#Data Exploration"
      ],
      "metadata": {
        "id": "Wcvd7yQV7_BV"
      }
    },
    {
      "cell_type": "code",
      "source": [
        "!ls -l /content"
      ],
      "metadata": {
        "colab": {
          "base_uri": "https://localhost:8080/"
        },
        "id": "e713j9N47YoI",
        "outputId": "ac2ad2d7-43b4-4b76-a996-94fd578005aa"
      },
      "execution_count": 44,
      "outputs": [
        {
          "output_type": "stream",
          "name": "stdout",
          "text": [
            "total 24\n",
            "drwx------ 5 root root 4096 Jan 17 16:38 drive\n",
            "drwxr-xr-x 4 root root 4096 Jan 17 16:38 __MACOSX\n",
            "drwxr-xr-x 1 root root 4096 Jan 12 19:20 sample_data\n",
            "drwxr-xr-x 4 root root 4096 Jan  8 17:16 test\n",
            "drwxr-xr-x 4 root root 4096 Jan  8 17:16 train\n",
            "drwxr-xr-x 4 root root 4096 Jan  8 17:16 val\n"
          ]
        }
      ]
    },
    {
      "cell_type": "code",
      "source": [
        "DIR = \"/content\"\n",
        "sets = [\"train\", \"test\", \"val\"]\n",
        "all_pneumonia = []\n",
        "all_normal = []\n",
        "\n",
        "for cat in sets:\n",
        "    path = os.path.join(DIR, cat)\n",
        "    norm = glob.glob(os.path.join(path, \"NORMAL/*.jpeg\"))\n",
        "    pneu = glob.glob(os.path.join(path, \"PNEUMONIA/*.jpeg\"))\n",
        "    all_normal.extend(norm)\n",
        "    all_pneumonia.extend(pneu)\n",
        "print(\"〰\"*20)\n",
        "print(f\"Total Pneumonia Images: {len(all_pneumonia)}\")\n",
        "print(f\"Total Normal Images: {len(all_normal)}\")\n",
        "print(\"〰\"*20)"
      ],
      "metadata": {
        "colab": {
          "base_uri": "https://localhost:8080/"
        },
        "id": "Zi2mMsHG7Jxc",
        "outputId": "d28689df-97ad-4e00-a89c-d15630ea8f50"
      },
      "execution_count": 45,
      "outputs": [
        {
          "output_type": "stream",
          "name": "stdout",
          "text": [
            "〰〰〰〰〰〰〰〰〰〰〰〰〰〰〰〰〰〰〰〰\n",
            "Total Pneumonia Images: 4273\n",
            "Total Normal Images: 1583\n",
            "〰〰〰〰〰〰〰〰〰〰〰〰〰〰〰〰〰〰〰〰\n"
          ]
        }
      ]
    },
    {
      "cell_type": "code",
      "source": [
        "## Plotly chart for Class distribution\n",
        "labels = [\"Normal\",'Pneumonia ']\n",
        "values = [len(all_normal), len(all_pneumonia)]\n",
        "colors = ['green', 'pink']\n",
        "fig = go.Figure(data=[go.Pie(labels=labels,\n",
        "                             values=values,hole=.5)])\n",
        "fig.update_traces(hoverinfo='value', textinfo='label+percent', textfont_size=20,\n",
        "                  marker=dict(colors=colors, line=dict(color='#000000', width=3)))\n",
        "fig.update_layout(title=\"Image Category Distribution\",\n",
        "                  titlefont={'size': 30},\n",
        "                  )\n",
        "iplot(fig)"
      ],
      "metadata": {
        "id": "pIcYs5v8X8XX"
      },
      "execution_count": null,
      "outputs": []
    }
  ]
}